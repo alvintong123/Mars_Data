{
 "cells": [
  {
   "cell_type": "code",
   "execution_count": 9,
   "id": "5ff71180",
   "metadata": {},
   "outputs": [],
   "source": [
    "from splinter import Browser\n",
    "from bs4 import BeautifulSoup as soup\n",
    "from webdriver_manager.chrome import ChromeDriverManager"
   ]
  },
  {
   "cell_type": "code",
   "execution_count": 10,
   "id": "78927396",
   "metadata": {},
   "outputs": [],
   "source": [
    "html = browser.html\n",
    "html_soup = soup(html, 'html.parser')"
   ]
  },
  {
   "cell_type": "code",
   "execution_count": 11,
   "id": "fe7f7e4f",
   "metadata": {},
   "outputs": [],
   "source": [
    "title=html_soup.find_all('div', class_ = 'content_title')\n",
    "summary=html_soup.find_all('div', class_ = 'article_teaser_body')"
   ]
  },
  {
   "cell_type": "code",
   "execution_count": 12,
   "id": "16c0847c",
   "metadata": {},
   "outputs": [
    {
     "data": {
      "text/plain": [
       "[\"NASA's Treasure Map for Water Ice on Mars\",\n",
       " \"NASA's Mars 2020 Heads Into the Test Chamber\",\n",
       " \"NASA's Mars Perseverance Rover Gets Its Sample Handling System\",\n",
       " 'NASA Invites Public to Share Excitement of Mars 2020 Perseverance Rover Launch',\n",
       " \"The Launch Is Approaching for NASA's Next Mars Rover, Perseverance\",\n",
       " \"NASA's Ingenuity Mars Helicopter Recharges Its Batteries in Flight\",\n",
       " \"HiRISE Views NASA's InSight and Curiosity on Mars\",\n",
       " \"NASA's Mars 2020 Rover Goes Coast-to-Coast to Prep for Launch\",\n",
       " \"NASA's Perseverance Rover 100 Days Out\",\n",
       " \"NASA-JPL Names 'Rolling Stones Rock' on Mars\",\n",
       " \"The Detective Aboard NASA's Perseverance Rover\",\n",
       " 'NASA Moves Forward With Campaign to Return Mars Samples to Earth',\n",
       " \"NASA's Mars 2020 Rover Tests Descent-Stage Separation\",\n",
       " \"NASA Wins 4 Webbys, 4 People's Voice Awards\",\n",
       " \"NASA's MAVEN Maps Winds in the Martian Upper Atmosphere that Mirror the Terrain Below and Gives Clues to Martian Climate\"]"
      ]
     },
     "execution_count": 12,
     "metadata": {},
     "output_type": "execute_result"
    }
   ],
   "source": [
    "titles=[t.text for t in title] \n",
    "titles"
   ]
  },
  {
   "cell_type": "code",
   "execution_count": 13,
   "id": "83b1087c",
   "metadata": {},
   "outputs": [
    {
     "data": {
      "text/plain": [
       "['A new study identifies frozen water just below the Martian surface, where astronauts could easily dig it up.',\n",
       " 'In this time-lapse video taken at JPL, engineers move the Mars 2020 rover into a large vacuum chamber for testing in Mars-like environmental conditions.',\n",
       " 'The system will be collecting and storing Martian rock and soil. Its installation marks another milestone in the march toward the July launch period.',\n",
       " 'There are lots of ways to participate in the historic event, which is targeted for July 30.',\n",
       " \"The Red Planet's surface has been visited by eight NASA spacecraft. The ninth will be the first that includes a roundtrip ticket in its flight plan. \",\n",
       " 'Headed to the Red Planet with the Perseverance rover, the pioneering helicopter is powered up for the first time in interplanetary space as part of a systems check.',\n",
       " 'New images taken from space offer the clearest orbital glimpse yet of InSight as well as a view of Curiosity rolling along.',\n",
       " \"The agency's first step in returning rocks from Mars just arrived at Kennedy Space Center. The Mars 2020 team now begins readying for a launch to the Red Planet this July.\",\n",
       " \"Mark your calendars: The agency's latest rover has only about 8,640,000 seconds to go before it touches down on the Red Planet, becoming history's next Mars car.\",\n",
       " \"NASA's Mars InSight mission honored one of the biggest bands of all time at Pasadena concert.\",\n",
       " 'An instrument called SHERLOC will, with the help of its partner WATSON, hunt for signs of ancient life by detecting organic molecules and minerals.',\n",
       " 'During this next phase, the program will mature critical technologies and make critical design decisions as well as assess industry partnerships.',\n",
       " \"A crane lifts the rocket-powered descent stage away from NASA's Mars 2020 rover after technicians tested the pyrotechnic charges that separate the two spacecraft.\",\n",
       " 'Winners include the JPL-managed \"Send Your Name to Mars\" campaign, NASA\\'s Global Climate Change website and Solar System Interactive.',\n",
       " 'Researchers have created the first map of wind circulation in the upper atmosphere of a planet besides Earth, using data from NASA’s MAVEN spacecraft that were collected during the last two years.']"
      ]
     },
     "execution_count": 13,
     "metadata": {},
     "output_type": "execute_result"
    }
   ],
   "source": [
    "summaries=[s.text for s in summary] \n",
    "summaries"
   ]
  },
  {
   "cell_type": "code",
   "execution_count": 14,
   "id": "c6d5c1a8",
   "metadata": {},
   "outputs": [
    {
     "data": {
      "text/plain": [
       "[{'title': \"NASA's Treasure Map for Water Ice on Mars\",\n",
       "  'preview': 'A new study identifies frozen water just below the Martian surface, where astronauts could easily dig it up.'},\n",
       " {'title': \"NASA's Mars 2020 Heads Into the Test Chamber\",\n",
       "  'preview': 'In this time-lapse video taken at JPL, engineers move the Mars 2020 rover into a large vacuum chamber for testing in Mars-like environmental conditions.'},\n",
       " {'title': \"NASA's Mars Perseverance Rover Gets Its Sample Handling System\",\n",
       "  'preview': 'The system will be collecting and storing Martian rock and soil. Its installation marks another milestone in the march toward the July launch period.'},\n",
       " {'title': 'NASA Invites Public to Share Excitement of Mars 2020 Perseverance Rover Launch',\n",
       "  'preview': 'There are lots of ways to participate in the historic event, which is targeted for July 30.'},\n",
       " {'title': \"The Launch Is Approaching for NASA's Next Mars Rover, Perseverance\",\n",
       "  'preview': \"The Red Planet's surface has been visited by eight NASA spacecraft. The ninth will be the first that includes a roundtrip ticket in its flight plan. \"},\n",
       " {'title': \"NASA's Ingenuity Mars Helicopter Recharges Its Batteries in Flight\",\n",
       "  'preview': 'Headed to the Red Planet with the Perseverance rover, the pioneering helicopter is powered up for the first time in interplanetary space as part of a systems check.'},\n",
       " {'title': \"HiRISE Views NASA's InSight and Curiosity on Mars\",\n",
       "  'preview': 'New images taken from space offer the clearest orbital glimpse yet of InSight as well as a view of Curiosity rolling along.'},\n",
       " {'title': \"NASA's Mars 2020 Rover Goes Coast-to-Coast to Prep for Launch\",\n",
       "  'preview': \"The agency's first step in returning rocks from Mars just arrived at Kennedy Space Center. The Mars 2020 team now begins readying for a launch to the Red Planet this July.\"},\n",
       " {'title': \"NASA's Perseverance Rover 100 Days Out\",\n",
       "  'preview': \"Mark your calendars: The agency's latest rover has only about 8,640,000 seconds to go before it touches down on the Red Planet, becoming history's next Mars car.\"},\n",
       " {'title': \"NASA-JPL Names 'Rolling Stones Rock' on Mars\",\n",
       "  'preview': \"NASA's Mars InSight mission honored one of the biggest bands of all time at Pasadena concert.\"},\n",
       " {'title': \"The Detective Aboard NASA's Perseverance Rover\",\n",
       "  'preview': 'An instrument called SHERLOC will, with the help of its partner WATSON, hunt for signs of ancient life by detecting organic molecules and minerals.'},\n",
       " {'title': 'NASA Moves Forward With Campaign to Return Mars Samples to Earth',\n",
       "  'preview': 'During this next phase, the program will mature critical technologies and make critical design decisions as well as assess industry partnerships.'},\n",
       " {'title': \"NASA's Mars 2020 Rover Tests Descent-Stage Separation\",\n",
       "  'preview': \"A crane lifts the rocket-powered descent stage away from NASA's Mars 2020 rover after technicians tested the pyrotechnic charges that separate the two spacecraft.\"},\n",
       " {'title': \"NASA Wins 4 Webbys, 4 People's Voice Awards\",\n",
       "  'preview': 'Winners include the JPL-managed \"Send Your Name to Mars\" campaign, NASA\\'s Global Climate Change website and Solar System Interactive.'},\n",
       " {'title': \"NASA's MAVEN Maps Winds in the Martian Upper Atmosphere that Mirror the Terrain Below and Gives Clues to Martian Climate\",\n",
       "  'preview': 'Researchers have created the first map of wind circulation in the upper atmosphere of a planet besides Earth, using data from NASA’s MAVEN spacecraft that were collected during the last two years.'}]"
      ]
     },
     "execution_count": 14,
     "metadata": {},
     "output_type": "execute_result"
    }
   ],
   "source": [
    "mars=[] \n",
    "for i in range (0,15): \n",
    "    mars.append({'title':titles[i], 'preview':summaries[i]}) \n",
    "mars"
   ]
  },
  {
   "cell_type": "code",
   "execution_count": null,
   "id": "fa342918",
   "metadata": {},
   "outputs": [],
   "source": []
  },
  {
   "cell_type": "code",
   "execution_count": null,
   "id": "0d0a2c00",
   "metadata": {},
   "outputs": [],
   "source": []
  }
 ],
 "metadata": {
  "kernelspec": {
   "display_name": "PythonData",
   "language": "python",
   "name": "pythondata"
  },
  "language_info": {
   "codemirror_mode": {
    "name": "ipython",
    "version": 3
   },
   "file_extension": ".py",
   "mimetype": "text/x-python",
   "name": "python",
   "nbconvert_exporter": "python",
   "pygments_lexer": "ipython3",
   "version": "3.7.13"
  }
 },
 "nbformat": 4,
 "nbformat_minor": 5
}
